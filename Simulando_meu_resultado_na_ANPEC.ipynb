{
  "nbformat": 4,
  "nbformat_minor": 0,
  "metadata": {
    "colab": {
      "provenance": [],
      "authorship_tag": "ABX9TyO6/4Spo5kAYvtR6/NeUzHo",
      "include_colab_link": true
    },
    "kernelspec": {
      "name": "python3",
      "display_name": "Python 3"
    },
    "language_info": {
      "name": "python"
    }
  },
  "cells": [
    {
      "cell_type": "markdown",
      "metadata": {
        "id": "view-in-github",
        "colab_type": "text"
      },
      "source": [
        "<a href=\"https://colab.research.google.com/github/fabiorochav/candidatos_eleicoes_2022/blob/main/Simulando_meu_resultado_na_ANPEC.ipynb\" target=\"_parent\"><img src=\"https://colab.research.google.com/assets/colab-badge.svg\" alt=\"Open In Colab\"/></a>"
      ]
    },
    {
      "cell_type": "code",
      "execution_count": 11,
      "metadata": {
        "colab": {
          "base_uri": "https://localhost:8080/"
        },
        "id": "HPXUI134o5Ro",
        "outputId": "9c2eff44-73ae-41c7-8256-d0d157120bcc"
      },
      "outputs": [
        {
          "output_type": "stream",
          "name": "stdout",
          "text": [
            "Digite a nota de micro: 1\n",
            "Digite a nota de macro: 2\n",
            "Digite a nota de matematica: 4\n",
            "Digite a nota de estatistica: 1\n",
            "Digite o peso de micro: 0.25\n",
            "Digite o peso de macro: 0.25\n",
            "Digite o peso de matematica: 0.25\n",
            "Digite o peso de estatistica: 0.25\n",
            "Resultado Final: 42.426406871192846\n"
          ]
        }
      ],
      "source": [
        "# Importar o pacote statistics para calcular a média e o desvio padrão\n",
        "import statistics\n",
        "\n",
        "nota_micro = float(input(\"Digite a nota de micro: \"))\n",
        "nota_macro = float(input(\"Digite a nota de macro: \"))\n",
        "nota_matematica = float(input(\"Digite a nota de matematica: \"))\n",
        "nota_estatistica = float(input(\"Digite a nota de estatistica: \"))\n",
        "\n",
        "# Agrupa todas as notas em uma lista\n",
        "notas = [nota_micro, nota_macro, nota_matematica, nota_estatistica]\n",
        "\n",
        "# Soma os resultados das provas usando a função sum() e armazena em resultado_da_prova\n",
        "resultado_da_prova = sum(notas)\n",
        "media = statistics.mean(notas)  # Cálculo da média usando statistics.mean()\n",
        "desvio_padrao = statistics.stdev(notas)  # Cálculo do desvio padrão usando statistics.stdev()\n",
        "\n",
        "# Cálculo do escore padronizado\n",
        "escore_padronizado = (resultado_da_prova - media) / desvio_padrao\n",
        "\n",
        "peso_micro = float(input(\"Digite o peso de micro: \"))\n",
        "peso_macro = float(input(\"Digite o peso de macro: \"))\n",
        "peso_matematica = float(input(\"Digite o peso de matematica: \"))\n",
        "peso_estatistica = float(input(\"Digite o peso de estatistica: \"))\n",
        "\n",
        "nota_semifinal_micro = peso_micro * escore_padronizado * 10\n",
        "nota_semifinal_macro = peso_macro * escore_padronizado * 10\n",
        "nota_semifinal_matematica = peso_matematica * escore_padronizado * 10\n",
        "nota_semifinal_estatistica = peso_estatistica * escore_padronizado * 10\n",
        "\n",
        "# Agrupar as notas semifinais em uma lista\n",
        "notas_semifinais = [nota_semifinal_micro, nota_semifinal_macro, nota_semifinal_matematica, nota_semifinal_estatistica]\n",
        "\n",
        "resultado_final = sum(notas_semifinais)\n",
        "\n",
        "print(\"Resultado Final:\", resultado_final)\n"
      ]
    },
    {
      "cell_type": "code",
      "source": [],
      "metadata": {
        "id": "9-tW0mDuqHCX"
      },
      "execution_count": null,
      "outputs": []
    }
  ]
}